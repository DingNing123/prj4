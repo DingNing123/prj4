{
 "cells": [
  {
   "cell_type": "markdown",
   "id": "50c57c68-9a03-4d77-a686-0675ecc9f854",
   "metadata": {},
   "source": [
    "# args"
   ]
  },
  {
   "cell_type": "code",
   "execution_count": 1,
   "id": "7504e4a6-04d1-4691-82d6-7feacca1c517",
   "metadata": {},
   "outputs": [],
   "source": [
    "import argparse\n",
    "\n",
    "parser = argparse.ArgumentParser()\n",
    "parser.add_argument(\"--dataset\", type=str,\n",
    "                    choices=[\"mosi\", \"mosei\"], default=\"mosi\")\n",
    "parser.add_argument(\"--max_seq_length\", type=int, default=50)\n",
    "parser.add_argument(\"--train_batch_size\", type=int, default=48)\n",
    "parser.add_argument(\"--dev_batch_size\", type=int, default=128)\n",
    "parser.add_argument(\"--test_batch_size\", type=int, default=128)\n",
    "parser.add_argument(\"--n_epochs\", type=int, default=50)\n",
    "parser.add_argument(\"--beta_shift\", type=float, default=1.0)\n",
    "parser.add_argument(\"--dropout_prob\", type=float, default=0.5)\n",
    "parser.add_argument(\n",
    "    \"--model\",\n",
    "    type=str,\n",
    "    choices=[\"bert-base-uncased\"],\n",
    "    default=\"bert-base-uncased\",\n",
    ")\n",
    "parser.add_argument(\"--learning_rate\", type=float, default=1e-5)\n",
    "parser.add_argument(\"--gradient_accumulation_step\", type=int, default=1)\n",
    "parser.add_argument(\"--warmup_proportion\", type=float, default=0.1)\n",
    "parser.add_argument(\"--seed\", type=int, default=5576)\n",
    "parser.add_argument(\"--mib\", type=str, default='cmib')\n",
    "# python main_mib.py --mib emib --dataset mosi --train_batch_size 32 --n_epochs 50\n",
    "args = parser.parse_args(args=['--mib','emib','--train_batch_size','2','--n_epochs','2'])\n"
   ]
  },
  {
   "cell_type": "markdown",
   "id": "fd1d312f-c82f-46f9-b0e0-07b6b6c9c9a2",
   "metadata": {},
   "source": [
    "# add path"
   ]
  },
  {
   "cell_type": "code",
   "execution_count": 2,
   "id": "ea566f83-cf14-4c6a-924d-15d7c6b74c44",
   "metadata": {},
   "outputs": [
    {
     "name": "stdout",
     "output_type": "stream",
     "text": [
      "['/Users/mac/Desktop/prj4/note_books', '/Users/mac/Desktop/prj4/note_books', '/Users/mac/anaconda3/envs/t18/lib/python37.zip', '/Users/mac/anaconda3/envs/t18/lib/python3.7', '/Users/mac/anaconda3/envs/t18/lib/python3.7/lib-dynload', '', '/Users/mac/anaconda3/envs/t18/lib/python3.7/site-packages', '/Users/mac/anaconda3/envs/t18/lib/python3.7/site-packages/IPython/extensions', '/Users/mac/.ipython', '..']\n"
     ]
    }
   ],
   "source": [
    "import sys\n",
    "import os\n",
    "sys.path.append(\"..\") "
   ]
  },
  {
   "cell_type": "markdown",
   "id": "5f00459d-f36f-4a61-9edf-95959223362f",
   "metadata": {},
   "source": [
    "# import MIB"
   ]
  },
  {
   "cell_type": "code",
   "execution_count": 6,
   "id": "1e11d73e-2810-4324-9085-c14a069e51e3",
   "metadata": {},
   "outputs": [],
   "source": [
    "%load_ext autoreload\n",
    "%autoreload 2"
   ]
  },
  {
   "cell_type": "code",
   "execution_count": 12,
   "id": "f84bc18c-a6fd-45a2-ba51-7dd770e767c9",
   "metadata": {},
   "outputs": [
    {
     "ename": "ModuleNotFoundError",
     "evalue": "No module named 'global_configs'",
     "output_type": "error",
     "traceback": [
      "\u001b[0;31m---------------------------------------------------------------------------\u001b[0m",
      "\u001b[0;31mModuleNotFoundError\u001b[0m                       Traceback (most recent call last)",
      "\u001b[0;32m/var/folders/_f/7s4zxldj70v8qp9rrqtq1cth0000gn/T/ipykernel_26746/3799370680.py\u001b[0m in \u001b[0;36m<module>\u001b[0;34m\u001b[0m\n\u001b[1;32m      3\u001b[0m     \u001b[0mprint\u001b[0m\u001b[0;34m(\u001b[0m\u001b[0;34m'selecting cmib!'\u001b[0m\u001b[0;34m)\u001b[0m\u001b[0;34m\u001b[0m\u001b[0;34m\u001b[0m\u001b[0m\n\u001b[1;32m      4\u001b[0m \u001b[0;32melif\u001b[0m \u001b[0margs\u001b[0m\u001b[0;34m.\u001b[0m\u001b[0mmib\u001b[0m \u001b[0;34m==\u001b[0m \u001b[0;34m'emib'\u001b[0m\u001b[0;34m:\u001b[0m\u001b[0;34m\u001b[0m\u001b[0;34m\u001b[0m\u001b[0m\n\u001b[0;32m----> 5\u001b[0;31m     \u001b[0;32mfrom\u001b[0m \u001b[0memib\u001b[0m \u001b[0;32mimport\u001b[0m \u001b[0mMIB\u001b[0m\u001b[0;34m\u001b[0m\u001b[0;34m\u001b[0m\u001b[0m\n\u001b[0m\u001b[1;32m      6\u001b[0m     \u001b[0mprint\u001b[0m\u001b[0;34m(\u001b[0m\u001b[0;34m'selecting emib!'\u001b[0m\u001b[0;34m)\u001b[0m\u001b[0;34m\u001b[0m\u001b[0;34m\u001b[0m\u001b[0m\n\u001b[1;32m      7\u001b[0m \u001b[0;32melif\u001b[0m \u001b[0margs\u001b[0m\u001b[0;34m.\u001b[0m\u001b[0mmib\u001b[0m \u001b[0;34m==\u001b[0m \u001b[0;34m'lmib'\u001b[0m\u001b[0;34m:\u001b[0m\u001b[0;34m\u001b[0m\u001b[0;34m\u001b[0m\u001b[0m\n",
      "\u001b[0;32m~/Desktop/prj4/emib.py\u001b[0m in \u001b[0;36m<module>\u001b[0;34m\u001b[0m\n\u001b[1;32m     32\u001b[0m )\n\u001b[1;32m     33\u001b[0m \u001b[0;34m\u001b[0m\u001b[0m\n\u001b[0;32m---> 34\u001b[0;31m \u001b[0;32mfrom\u001b[0m \u001b[0mglobal_configs\u001b[0m \u001b[0;32mimport\u001b[0m \u001b[0mTEXT_DIM\u001b[0m\u001b[0;34m,\u001b[0m \u001b[0mACOUSTIC_DIM\u001b[0m\u001b[0;34m,\u001b[0m \u001b[0mVISUAL_DIM\u001b[0m\u001b[0;34m,\u001b[0m \u001b[0mDEVICE\u001b[0m\u001b[0;34m\u001b[0m\u001b[0;34m\u001b[0m\u001b[0m\n\u001b[0m\u001b[1;32m     35\u001b[0m \u001b[0;34m\u001b[0m\u001b[0m\n\u001b[1;32m     36\u001b[0m \u001b[0mlogger\u001b[0m \u001b[0;34m=\u001b[0m \u001b[0mlogging\u001b[0m\u001b[0;34m.\u001b[0m\u001b[0mgetLogger\u001b[0m\u001b[0;34m(\u001b[0m\u001b[0m__name__\u001b[0m\u001b[0;34m)\u001b[0m\u001b[0;34m\u001b[0m\u001b[0;34m\u001b[0m\u001b[0m\n",
      "\u001b[0;31mModuleNotFoundError\u001b[0m: No module named 'global_configs'"
     ]
    }
   ],
   "source": [
    "if args.mib == 'cmib':\n",
    "    from cmib import MIB\n",
    "    print('selecting cmib!')\n",
    "elif args.mib == 'emib':\n",
    "    from emib import MIB\n",
    "    print('selecting emib!')\n",
    "elif args.mib == 'lmib':\n",
    "    from lmib import MIB\n",
    "    print('selecting lmib!')\n",
    "else:\n",
    "    print('error! you should choose from {cmib,emib,lmib}!')"
   ]
  },
  {
   "cell_type": "markdown",
   "id": "4a014b48-e3d7-453e-ae36-7105da0ace7d",
   "metadata": {},
   "source": [
    "transformer version problem:\n",
    "\n",
    "my version transformers 4.14.1\n",
    "\n",
    "from transformers.models.bert.modeling_bert import BertPreTrainedModel\n",
    "\n",
    "transformers=3.0.2=pypi_0\n",
    "\n",
    "from transformers.modeling_bert import BertPreTrainedModel"
   ]
  },
  {
   "cell_type": "code",
   "execution_count": null,
   "id": "239e27bb-5c2b-4782-9490-26656d90e0b0",
   "metadata": {},
   "outputs": [],
   "source": []
  }
 ],
 "metadata": {
  "kernelspec": {
   "display_name": "Python 3 (ipykernel)",
   "language": "python",
   "name": "python3"
  },
  "language_info": {
   "codemirror_mode": {
    "name": "ipython",
    "version": 3
   },
   "file_extension": ".py",
   "mimetype": "text/x-python",
   "name": "python",
   "nbconvert_exporter": "python",
   "pygments_lexer": "ipython3",
   "version": "3.7.2"
  },
  "widgets": {
   "application/vnd.jupyter.widget-state+json": {
    "state": {},
    "version_major": 2,
    "version_minor": 0
   }
  }
 },
 "nbformat": 4,
 "nbformat_minor": 5
}
